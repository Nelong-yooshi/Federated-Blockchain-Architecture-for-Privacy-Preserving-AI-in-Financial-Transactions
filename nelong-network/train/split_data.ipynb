{
 "cells": [
  {
   "cell_type": "code",
   "execution_count": 1,
   "id": "9b566a66",
   "metadata": {},
   "outputs": [],
   "source": [
    "import pandas as pd "
   ]
  },
  {
   "cell_type": "code",
   "execution_count": 2,
   "id": "54c951c6",
   "metadata": {},
   "outputs": [],
   "source": [
    "# 讀入原始 CSV\n",
    "df = pd.read_csv('training_data_hashed.csv')  # 換成你的檔名\n",
    "\n",
    "# 打亂 rows，設定 random_state 以確保可重現\n",
    "shuffled_df = df.sample(frac=1, random_state=42).reset_index(drop=True)\n",
    "\n",
    "# 計算每份的大小\n",
    "n = len(shuffled_df)\n",
    "chunk_size = n // 5\n",
    "\n",
    "# 分割並儲存\n",
    "for i in range(5):\n",
    "    start_idx = i * chunk_size\n",
    "    end_idx = (i + 1) * chunk_size if i < 4 else n  # 最後一份拿剩下所有\n",
    "    chunk = shuffled_df.iloc[start_idx:end_idx]\n",
    "    chunk.to_csv(f'training_data_{i+1}.csv', index=False)"
   ]
  },
  {
   "cell_type": "code",
   "execution_count": null,
   "id": "9f571f40",
   "metadata": {},
   "outputs": [],
   "source": []
  }
 ],
 "metadata": {
  "kernelspec": {
   "display_name": "nelong-network",
   "language": "python",
   "name": "python3"
  },
  "language_info": {
   "codemirror_mode": {
    "name": "ipython",
    "version": 3
   },
   "file_extension": ".py",
   "mimetype": "text/x-python",
   "name": "python",
   "nbconvert_exporter": "python",
   "pygments_lexer": "ipython3",
   "version": "3.10.16"
  }
 },
 "nbformat": 4,
 "nbformat_minor": 5
}
